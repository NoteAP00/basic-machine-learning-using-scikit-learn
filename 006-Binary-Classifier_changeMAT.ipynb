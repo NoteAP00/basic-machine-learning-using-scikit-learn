{
  "cells": [
    {
      "cell_type": "markdown",
      "metadata": {
        "id": "view-in-github",
        "colab_type": "text"
      },
      "source": [
        "<a href=\"https://colab.research.google.com/github/NoteAP00/basic-machine-learning-using-scikit-learn/blob/master/006-Binary-Classifier_changeMAT.ipynb\" target=\"_parent\"><img src=\"https://colab.research.google.com/assets/colab-badge.svg\" alt=\"Open In Colab\"/></a>"
      ]
    },
    {
      "cell_type": "markdown",
      "metadata": {
        "id": "i9Vhfj5Fm2ID"
      },
      "source": [
        "# Binary Classifier\n",
        "Distinguish between 2 classes\n",
        "\n",
        "![alt text](https://jakelearnsdatascience.files.wordpress.com/2017/02/lda_binary.png \"Binary Classification\")"
      ]
    },
    {
      "cell_type": "markdown",
      "metadata": {
        "id": "hncCgta_m2II"
      },
      "source": [
        "## Loading MNIST dataset using scipy library"
      ]
    },
    {
      "cell_type": "code",
      "source": [
        "from google.colab import drive\n",
        "drive.mount('/content/drive')\n",
        "\n",
        "import os\n",
        "os.chdir('/content/drive/My Drive/csv')\n",
        "!ls\n",
        "\n",
        "import matplotlib.pyplot as plt"
      ],
      "metadata": {
        "id": "WHRkmmYcnEmt",
        "outputId": "18fead9d-dba3-4d1b-e7c1-1ec8b3baa334",
        "colab": {
          "base_uri": "https://localhost:8080/"
        }
      },
      "execution_count": 19,
      "outputs": [
        {
          "output_type": "stream",
          "name": "stdout",
          "text": [
            "Drive already mounted at /content/drive; to attempt to forcibly remount, call drive.mount(\"/content/drive\", force_remount=True).\n",
            "mnist-original.mat\n"
          ]
        }
      ]
    },
    {
      "cell_type": "markdown",
      "source": [
        "https://drive.google.com/drive/folders/1uqn3m0u7jeNSzbN2AIZQy6AGbZBtSQNF?usp=drive_link"
      ],
      "metadata": {
        "id": "624EypYDnIn1"
      }
    },
    {
      "cell_type": "code",
      "execution_count": 20,
      "metadata": {
        "id": "NIVG-HHbm2II"
      },
      "outputs": [],
      "source": [
        "from scipy.io import loadmat\n",
        "\n",
        "mnist_raw = loadmat(\"/content/drive/My Drive/csv/mnist-original.mat\")\n",
        "mnist = {\n",
        "    \"data\": mnist_raw[\"data\"].T,\n",
        "    \"target\": mnist_raw[\"label\"][0],\n",
        "    \"COL_NAMES\": [\"label\", \"data\"],\n",
        "    \"DESCR\": \"mldata.org dataset: mnist-original\",\n",
        "    }\n",
        "\n",
        "X,y = mnist['data'], mnist['target']"
      ]
    },
    {
      "cell_type": "code",
      "execution_count": 21,
      "metadata": {
        "id": "hWbwju6nm2IK",
        "outputId": "81f010c3-b05b-4b89-c396-09a61e47be94",
        "colab": {
          "base_uri": "https://localhost:8080/"
        }
      },
      "outputs": [
        {
          "output_type": "stream",
          "name": "stdout",
          "text": [
            "(60000, 784) (10000, 784) (60000,) (10000,)\n"
          ]
        }
      ],
      "source": [
        "import numpy as np\n",
        "\n",
        "X_train, X_test, y_train, y_test = X[:60000], X[60000:], y[:60000], y[60000:]\n",
        "\n",
        "shuffle_index = np.random.permutation(60000)\n",
        "\n",
        "print(X_train.shape, X_test.shape, y_train.shape, y_test.shape)"
      ]
    },
    {
      "cell_type": "markdown",
      "metadata": {
        "id": "3nNfFnZkm2IM"
      },
      "source": [
        "## Using Stochastic Descent"
      ]
    },
    {
      "cell_type": "code",
      "execution_count": 22,
      "metadata": {
        "id": "tDC2O9wam2IM",
        "outputId": "96735aa4-0efc-4715-8013-50ad0496baeb",
        "colab": {
          "base_uri": "https://localhost:8080/"
        }
      },
      "outputs": [
        {
          "output_type": "stream",
          "name": "stdout",
          "text": [
            "[0. 0. 0. ... 9. 9. 9.]\n"
          ]
        }
      ],
      "source": [
        "# target / class / y\n",
        "print(y_train)"
      ]
    },
    {
      "cell_type": "code",
      "execution_count": 23,
      "metadata": {
        "id": "oLWksbfZm2IN",
        "outputId": "72f5a2dd-575c-41fe-e91a-553845a53516",
        "colab": {
          "base_uri": "https://localhost:8080/"
        }
      },
      "outputs": [
        {
          "output_type": "stream",
          "name": "stdout",
          "text": [
            "(60000,) [False False False ... False False False]\n",
            "(10000,) [False False False ... False False False]\n"
          ]
        }
      ],
      "source": [
        "# Start by only trying to ID \"five\" digits.\n",
        "\n",
        "y_train_5 = (y_train == 5) # create target vectors\n",
        "y_test_5  = (y_test == 5)\n",
        "\n",
        "# 5 = True\n",
        "# other = False\n",
        "\n",
        "print(y_train_5.shape, y_train_5)\n",
        "print(y_test_5.shape, y_test_5)"
      ]
    },
    {
      "cell_type": "markdown",
      "metadata": {
        "id": "mDT3Op7Gm2IO"
      },
      "source": [
        "## SGD Classifier"
      ]
    },
    {
      "cell_type": "code",
      "execution_count": 24,
      "metadata": {
        "id": "WV6U-NVSm2IO"
      },
      "outputs": [],
      "source": [
        "def plot_digit(X):\n",
        "    plt.imshow(\n",
        "    X.reshape(28, 28),\n",
        "    cmap = plt.cm.binary,\n",
        "    interpolation=\"nearest\")\n",
        "\n",
        "    plt.axis(\"off\")\n",
        "    plt.show()\n",
        "\n",
        "def print_pred_data(clf, actual_y, X):\n",
        "    print(\"Actual : \", actual_y)\n",
        "    print(\"Prediction : \", clf.predict([X])[0])"
      ]
    },
    {
      "cell_type": "code",
      "execution_count": 25,
      "metadata": {
        "id": "gPJH8PRem2IP",
        "outputId": "a2b4d959-8401-46eb-f3e0-e264a8c9ed36",
        "colab": {
          "base_uri": "https://localhost:8080/",
          "height": 75
        }
      },
      "outputs": [
        {
          "output_type": "execute_result",
          "data": {
            "text/plain": [
              "SGDClassifier(random_state=42)"
            ],
            "text/html": [
              "<style>#sk-container-id-2 {color: black;background-color: white;}#sk-container-id-2 pre{padding: 0;}#sk-container-id-2 div.sk-toggleable {background-color: white;}#sk-container-id-2 label.sk-toggleable__label {cursor: pointer;display: block;width: 100%;margin-bottom: 0;padding: 0.3em;box-sizing: border-box;text-align: center;}#sk-container-id-2 label.sk-toggleable__label-arrow:before {content: \"▸\";float: left;margin-right: 0.25em;color: #696969;}#sk-container-id-2 label.sk-toggleable__label-arrow:hover:before {color: black;}#sk-container-id-2 div.sk-estimator:hover label.sk-toggleable__label-arrow:before {color: black;}#sk-container-id-2 div.sk-toggleable__content {max-height: 0;max-width: 0;overflow: hidden;text-align: left;background-color: #f0f8ff;}#sk-container-id-2 div.sk-toggleable__content pre {margin: 0.2em;color: black;border-radius: 0.25em;background-color: #f0f8ff;}#sk-container-id-2 input.sk-toggleable__control:checked~div.sk-toggleable__content {max-height: 200px;max-width: 100%;overflow: auto;}#sk-container-id-2 input.sk-toggleable__control:checked~label.sk-toggleable__label-arrow:before {content: \"▾\";}#sk-container-id-2 div.sk-estimator input.sk-toggleable__control:checked~label.sk-toggleable__label {background-color: #d4ebff;}#sk-container-id-2 div.sk-label input.sk-toggleable__control:checked~label.sk-toggleable__label {background-color: #d4ebff;}#sk-container-id-2 input.sk-hidden--visually {border: 0;clip: rect(1px 1px 1px 1px);clip: rect(1px, 1px, 1px, 1px);height: 1px;margin: -1px;overflow: hidden;padding: 0;position: absolute;width: 1px;}#sk-container-id-2 div.sk-estimator {font-family: monospace;background-color: #f0f8ff;border: 1px dotted black;border-radius: 0.25em;box-sizing: border-box;margin-bottom: 0.5em;}#sk-container-id-2 div.sk-estimator:hover {background-color: #d4ebff;}#sk-container-id-2 div.sk-parallel-item::after {content: \"\";width: 100%;border-bottom: 1px solid gray;flex-grow: 1;}#sk-container-id-2 div.sk-label:hover label.sk-toggleable__label {background-color: #d4ebff;}#sk-container-id-2 div.sk-serial::before {content: \"\";position: absolute;border-left: 1px solid gray;box-sizing: border-box;top: 0;bottom: 0;left: 50%;z-index: 0;}#sk-container-id-2 div.sk-serial {display: flex;flex-direction: column;align-items: center;background-color: white;padding-right: 0.2em;padding-left: 0.2em;position: relative;}#sk-container-id-2 div.sk-item {position: relative;z-index: 1;}#sk-container-id-2 div.sk-parallel {display: flex;align-items: stretch;justify-content: center;background-color: white;position: relative;}#sk-container-id-2 div.sk-item::before, #sk-container-id-2 div.sk-parallel-item::before {content: \"\";position: absolute;border-left: 1px solid gray;box-sizing: border-box;top: 0;bottom: 0;left: 50%;z-index: -1;}#sk-container-id-2 div.sk-parallel-item {display: flex;flex-direction: column;z-index: 1;position: relative;background-color: white;}#sk-container-id-2 div.sk-parallel-item:first-child::after {align-self: flex-end;width: 50%;}#sk-container-id-2 div.sk-parallel-item:last-child::after {align-self: flex-start;width: 50%;}#sk-container-id-2 div.sk-parallel-item:only-child::after {width: 0;}#sk-container-id-2 div.sk-dashed-wrapped {border: 1px dashed gray;margin: 0 0.4em 0.5em 0.4em;box-sizing: border-box;padding-bottom: 0.4em;background-color: white;}#sk-container-id-2 div.sk-label label {font-family: monospace;font-weight: bold;display: inline-block;line-height: 1.2em;}#sk-container-id-2 div.sk-label-container {text-align: center;}#sk-container-id-2 div.sk-container {/* jupyter's `normalize.less` sets `[hidden] { display: none; }` but bootstrap.min.css set `[hidden] { display: none !important; }` so we also need the `!important` here to be able to override the default hidden behavior on the sphinx rendered scikit-learn.org. See: https://github.com/scikit-learn/scikit-learn/issues/21755 */display: inline-block !important;position: relative;}#sk-container-id-2 div.sk-text-repr-fallback {display: none;}</style><div id=\"sk-container-id-2\" class=\"sk-top-container\"><div class=\"sk-text-repr-fallback\"><pre>SGDClassifier(random_state=42)</pre><b>In a Jupyter environment, please rerun this cell to show the HTML representation or trust the notebook. <br />On GitHub, the HTML representation is unable to render, please try loading this page with nbviewer.org.</b></div><div class=\"sk-container\" hidden><div class=\"sk-item\"><div class=\"sk-estimator sk-toggleable\"><input class=\"sk-toggleable__control sk-hidden--visually\" id=\"sk-estimator-id-2\" type=\"checkbox\" checked><label for=\"sk-estimator-id-2\" class=\"sk-toggleable__label sk-toggleable__label-arrow\">SGDClassifier</label><div class=\"sk-toggleable__content\"><pre>SGDClassifier(random_state=42)</pre></div></div></div></div></div>"
            ]
          },
          "metadata": {},
          "execution_count": 25
        }
      ],
      "source": [
        "# SGD classifier: good at handling large DBs\n",
        "#                 also good at handling one-at-a-time learning\n",
        "from sklearn.linear_model import SGDClassifier\n",
        "\n",
        "sgd_clf = SGDClassifier(random_state=42)\n",
        "sgd_clf.fit(X_train, y_train_5)"
      ]
    },
    {
      "cell_type": "markdown",
      "metadata": {
        "id": "X4mMsjs4m2IQ"
      },
      "source": [
        "# Prediction"
      ]
    },
    {
      "cell_type": "code",
      "execution_count": 26,
      "metadata": {
        "id": "FI0ct3WTm2IQ",
        "outputId": "8bcd2dad-e05e-4110-a79a-8142ab9cba3b",
        "colab": {
          "base_uri": "https://localhost:8080/",
          "height": 1000
        }
      },
      "outputs": [
        {
          "output_type": "display_data",
          "data": {
            "text/plain": [
              "<Figure size 640x480 with 1 Axes>"
            ],
            "image/png": "[encoded data removed]"
          },
          "metadata": {}
        },
        {
          "output_type": "stream",
          "name": "stdout",
          "text": [
            "Actual :  True\n",
            "Prediction :  True\n"
          ]
        },
        {
          "output_type": "display_data",
          "data": {
            "text/plain": [
              "<Figure size 640x480 with 1 Axes>"
            ],
            "image/png": "[encoded data removed]"
          },
          "metadata": {}
        },
        {
          "output_type": "stream",
          "name": "stdout",
          "text": [
            "Actual :  False\n",
            "Prediction :  False\n"
          ]
        },
        {
          "output_type": "display_data",
          "data": {
            "text/plain": [
              "<Figure size 640x480 with 1 Axes>"
            ],
            "image/png": "[encoded data removed]"
          },
          "metadata": {}
        },
        {
          "output_type": "stream",
          "name": "stdout",
          "text": [
            "Actual :  False\n",
            "Prediction :  False\n"
          ]
        },
        {
          "output_type": "display_data",
          "data": {
            "text/plain": [
              "<Figure size 640x480 with 1 Axes>"
            ],
            "image/png": "[encoded data removed]"
          },
          "metadata": {}
        },
        {
          "output_type": "stream",
          "name": "stdout",
          "text": [
            "Actual :  False\n",
            "Prediction :  False\n"
          ]
        }
      ],
      "source": [
        "# did it correctly predict the \"five\" found above?\n",
        "pred_digit = 5500\n",
        "plot_digit(X_test[pred_digit])\n",
        "print_pred_data(sgd_clf, y_test_5[pred_digit], X_test[pred_digit])\n",
        "\n",
        "#==\n",
        "pred_digit = 5000\n",
        "plot_digit(X_test[pred_digit])\n",
        "print_pred_data(sgd_clf, y_test_5[pred_digit], X_test[pred_digit])\n",
        "\n",
        "#==\n",
        "pred_digit = 1000\n",
        "plot_digit(X_test[pred_digit])\n",
        "print_pred_data(sgd_clf, y_test_5[pred_digit], X_test[pred_digit])\n",
        "\n",
        "#==\n",
        "pred_digit = 9999\n",
        "plot_digit(X_test[pred_digit])\n",
        "print_pred_data(sgd_clf, y_test_5[pred_digit], X_test[pred_digit])"
      ]
    },
    {
      "cell_type": "markdown",
      "metadata": {
        "id": "20qWlNkGm2IR"
      },
      "source": [
        "## Performance measures"
      ]
    },
    {
      "cell_type": "code",
      "execution_count": 27,
      "metadata": {
        "id": "fPUqZ7j8m2IR",
        "outputId": "5de49d91-6b12-4e25-9daf-4e0fec4a9ffc",
        "colab": {
          "base_uri": "https://localhost:8080/"
        }
      },
      "outputs": [
        {
          "output_type": "stream",
          "name": "stdout",
          "text": [
            "[0.89345 0.75235 0.7899 ]\n"
          ]
        }
      ],
      "source": [
        "# measure accuracy using K-fold (n=3) cross-validation scores\n",
        "from sklearn.model_selection import cross_val_score\n",
        "\n",
        "print(cross_val_score(\n",
        "        sgd_clf,\n",
        "        X_train,\n",
        "        y_train_5,\n",
        "        cv=3,\n",
        "        scoring=\"accuracy\"))"
      ]
    },
    {
      "cell_type": "markdown",
      "metadata": {
        "id": "_yTvHRYdm2IS"
      },
      "source": [
        "## Confusion matrix\n",
        "a better way of evaluating a classifier"
      ]
    },
    {
      "cell_type": "code",
      "execution_count": 28,
      "metadata": {
        "id": "hnWVBel_m2IS"
      },
      "outputs": [],
      "source": [
        "# general idea: count #times instances of A are classified as B.\n",
        "# first, need a set of predictions.\n",
        "from sklearn.model_selection import cross_val_predict\n",
        "\n",
        "# Generate cross-val'd predictions for each datapoint\n",
        "y_train_pred = cross_val_predict(sgd_clf, X_train, y_train_5, cv=3)\n",
        "\n",
        "# ROWS = actual classes\n",
        "# COLS = predicted classes"
      ]
    },
    {
      "cell_type": "code",
      "execution_count": 29,
      "metadata": {
        "id": "udJwIMFSm2IS"
      },
      "outputs": [],
      "source": [
        "import matplotlib.pyplot as plt\n",
        "import itertools\n",
        "\n",
        "def plot_confusion_matrix(cm, classes,\n",
        "                          title='Confusion matrix',\n",
        "                          cmap=plt.cm.Blues):\n",
        "\n",
        "    plt.imshow(cm, interpolation='nearest', cmap=cmap)\n",
        "    plt.title(title)\n",
        "    plt.colorbar()\n",
        "    tick_marks = np.arange(len(classes))\n",
        "    plt.xticks(tick_marks, classes, rotation=45)\n",
        "    plt.yticks(tick_marks, classes)\n",
        "\n",
        "    thresh = cm.max() / 2.\n",
        "    for i, j in itertools.product(range(cm.shape[0]), range(cm.shape[1])):\n",
        "        plt.text(j, i, format(cm[i, j], 'd'),\n",
        "                horizontalalignment='center',\n",
        "                color='white' if cm[i,j] > thresh else 'black')\n",
        "\n",
        "    plt.tight_layout()\n",
        "    plt.ylabel('True label')\n",
        "    plt.xlabel('Predicted label')"
      ]
    },
    {
      "cell_type": "code",
      "execution_count": 30,
      "metadata": {
        "id": "UxQmpu7um2IS",
        "outputId": "ee5e1849-9d3c-46ea-905f-05ece73b40d8",
        "colab": {
          "base_uri": "https://localhost:8080/",
          "height": 541
        }
      },
      "outputs": [
        {
          "output_type": "stream",
          "name": "stdout",
          "text": [
            "[[44363 10216]\n",
            " [ 1070  4351]]\n"
          ]
        },
        {
          "output_type": "display_data",
          "data": {
            "text/plain": [
              "<Figure size 640x480 with 2 Axes>"
            ],
            "image/png": "[encoded data removed]"
          },
          "metadata": {}
        }
      ],
      "source": [
        "from sklearn.metrics import confusion_matrix\n",
        "\n",
        "cm = confusion_matrix(y_train_5, y_train_pred)\n",
        "print(cm)\n",
        "\n",
        "plt.figure()\n",
        "classes = ['Digit all', 'Digit 5']\n",
        "plot_confusion_matrix(cm, classes)"
      ]
    },
    {
      "cell_type": "code",
      "execution_count": 31,
      "metadata": {
        "id": "4TWAGHSpm2IT",
        "outputId": "4eb79265-aadc-44fe-f4aa-b70357342fe8",
        "colab": {
          "base_uri": "https://localhost:8080/",
          "height": 449
        }
      },
      "outputs": [
        {
          "output_type": "display_data",
          "data": {
            "text/plain": [
              "<Figure size 640x480 with 1 Axes>"
            ],
            "image/png": "[encoded data removed]"
          },
          "metadata": {}
        }
      ],
      "source": [
        "import seaborn as sns\n",
        "import matplotlib.pyplot as plt\n",
        "\n",
        "sns.heatmap(cm, square=True, annot=True, cbar=False)\n",
        "plt.xlabel('predicted value')\n",
        "plt.ylabel('actual value')\n",
        "plt.show()"
      ]
    },
    {
      "cell_type": "code",
      "execution_count": 32,
      "metadata": {
        "id": "mp44_wy4m2IT",
        "outputId": "39e400ad-642f-4192-d68d-7e78896d6b98",
        "colab": {
          "base_uri": "https://localhost:8080/"
        }
      },
      "outputs": [
        {
          "output_type": "stream",
          "name": "stdout",
          "text": [
            "precision: 0.298688817189538\n",
            "recall: 0.8026194429072127\n",
            "f1: 0.43536121673003797\n"
          ]
        }
      ],
      "source": [
        "# precision, recall, f1 metrics\n",
        "# precision/recall tradeoff: increasing one reduces the other.\n",
        "\n",
        "from sklearn.metrics import precision_score, recall_score, f1_score\n",
        "\n",
        "print(\"precision:\",precision_score(y_train_5, y_train_pred))\n",
        "print(\"recall:\",recall_score(y_train_5, y_train_pred))\n",
        "\n",
        "# F1 score favors classifiers with similar precision & recall.\n",
        "print(\"f1:\",f1_score(y_train_5, y_train_pred))"
      ]
    },
    {
      "cell_type": "markdown",
      "metadata": {
        "id": "OeXw-dsrm2IU"
      },
      "source": [
        "https://github.com/bjpcjp/scikit-and-tensorflow-workbooks/blob/master/ch03-classification.ipynb"
      ]
    },
    {
      "cell_type": "markdown",
      "metadata": {
        "id": "NcAOu8zNm2IU"
      },
      "source": [
        "# test data"
      ]
    },
    {
      "cell_type": "code",
      "execution_count": 33,
      "metadata": {
        "id": "BBAWBk6Ym2IU",
        "outputId": "bacdb87c-9aa8-42d3-95fd-2dfb805ba7a0",
        "colab": {
          "base_uri": "https://localhost:8080/"
        }
      },
      "outputs": [
        {
          "output_type": "stream",
          "name": "stdout",
          "text": [
            "              precision    recall  f1-score   support\n",
            "\n",
            "   Digit all       0.98      0.98      0.98      9108\n",
            "     Digit 5       0.81      0.83      0.82       892\n",
            "\n",
            "    accuracy                           0.97     10000\n",
            "   macro avg       0.90      0.90      0.90     10000\n",
            "weighted avg       0.97      0.97      0.97     10000\n",
            "\n"
          ]
        }
      ],
      "source": [
        "from sklearn.metrics import classification_report\n",
        "\n",
        "y_test_pred = sgd_clf.predict(X_test)\n",
        "\n",
        "classes = ['Digit all', 'Digit 5']\n",
        "print(classification_report(y_test_5, y_test_pred, target_names=classes))"
      ]
    },
    {
      "cell_type": "code",
      "execution_count": 34,
      "metadata": {
        "id": "24QIuLyWm2IU",
        "outputId": "fc790b2c-bbd5-4ba5-c4e4-c0cef8848408",
        "colab": {
          "base_uri": "https://localhost:8080/",
          "height": 541
        }
      },
      "outputs": [
        {
          "output_type": "stream",
          "name": "stdout",
          "text": [
            "[[8939  169]\n",
            " [ 156  736]]\n"
          ]
        },
        {
          "output_type": "display_data",
          "data": {
            "text/plain": [
              "<Figure size 640x480 with 2 Axes>"
            ],
            "image/png": "[encoded data removed]"
          },
          "metadata": {}
        }
      ],
      "source": [
        "from sklearn.metrics import confusion_matrix\n",
        "\n",
        "cm = confusion_matrix(y_test_5, y_test_pred)\n",
        "print(cm)\n",
        "\n",
        "plt.figure()\n",
        "classes = ['Digit all', 'Digit 5']\n",
        "plot_confusion_matrix(cm, classes)"
      ]
    },
    {
      "cell_type": "code",
      "execution_count": 35,
      "metadata": {
        "id": "nX2AxuyUm2IV",
        "outputId": "35ce32f6-1c2f-4ef9-ef62-bd8bdc393c4b",
        "colab": {
          "base_uri": "https://localhost:8080/"
        }
      },
      "outputs": [
        {
          "output_type": "stream",
          "name": "stdout",
          "text": [
            "Accuracy Score 96.75\n"
          ]
        }
      ],
      "source": [
        "from sklearn.metrics import accuracy_score\n",
        "\n",
        "print(\"Accuracy Score\", accuracy_score(y_test_5, y_test_pred)*100)"
      ]
    }
  ],
  "metadata": {
    "kernelspec": {
      "display_name": "Python 2",
      "language": "python",
      "name": "python2"
    },
    "language_info": {
      "codemirror_mode": {
        "name": "ipython",
        "version": 2
      },
      "file_extension": ".py",
      "mimetype": "text/x-python",
      "name": "python",
      "nbconvert_exporter": "python",
      "pygments_lexer": "ipython2",
      "version": "2.7.12"
    },
    "colab": {
      "provenance": [],
      "include_colab_link": true
    }
  },
  "nbformat": 4,
  "nbformat_minor": 0
}